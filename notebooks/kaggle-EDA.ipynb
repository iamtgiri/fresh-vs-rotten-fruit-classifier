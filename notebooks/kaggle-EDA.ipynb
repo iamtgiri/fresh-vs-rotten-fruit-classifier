{
 "cells": [
  {
   "cell_type": "code",
   "execution_count": null,
   "metadata": {
    "_cell_guid": "b1076dfc-b9ad-4769-8c92-a6c4dae69d19",
    "_uuid": "8f2839f25d086af736a60e9eeb907d3b93b6e0e5"
   },
   "outputs": [],
   "source": [
    "# This Python 3 environment comes with many helpful analytics libraries installed\n",
    "# It is defined by the kaggle/python Docker image: https://github.com/kaggle/docker-python\n",
    "# For example, here's several helpful packages to load\n",
    "\n",
    "import numpy as np # linear algebra\n",
    "import pandas as pd # data processing, CSV file I/O (e.g. pd.read_csv)\n",
    "\n",
    "# Input data files are available in the read-only \"../input/\" directory\n",
    "# For example, running this (by clicking run or pressing Shift+Enter) will list all files under the input directory\n",
    "\n",
    "# import os\n",
    "# for dirname, _, filenames in os.walk('/kaggle/input'):\n",
    "#     for filename in filenames:\n",
    "        # print(os.path.join(dirname, filename))\n",
    "\n",
    "# You can write up to 20GB to the current directory (/kaggle/working/) that gets preserved as output when you create a version using \"Save & Run All\" \n",
    "# You can also write temporary files to /kaggle/temp/, but they won't be saved outside of the current session"
   ]
  },
  {
   "cell_type": "code",
   "execution_count": null,
   "metadata": {},
   "outputs": [],
   "source": [
    "import os\n",
    "from pathlib import Path\n",
    "import matplotlib.pyplot as plt\n",
    "import seaborn as sns\n",
    "from PIL import Image\n",
    "import numpy as np\n",
    "import random\n",
    "\n",
    "# === Config ===\n",
    "TRAIN_DIR = Path(\"/kaggle/input/fresh-and-stale-classification/dataset/Train\")\n",
    "\n",
    "# === 1. Count images per class ===\n",
    "class_counts = {}\n",
    "image_shapes = []\n",
    "\n",
    "for class_dir in TRAIN_DIR.iterdir():\n",
    "    if class_dir.is_dir():\n",
    "        images = list(class_dir.glob(\"*.*\"))\n",
    "        class_counts[class_dir.name] = len(images)\n",
    "\n",
    "        # Sample a few image shapes\n",
    "        for img_path in random.sample(images, min(10, len(images))):\n",
    "            try:\n",
    "                img = Image.open(img_path)\n",
    "                image_shapes.append(img.size)  # (width, height)\n",
    "            except Exception as e:\n",
    "                print(f\"Failed to open {img_path}: {e}\")\n",
    "\n",
    "# === 2. Plot class distribution ===\n",
    "plt.figure(figsize=(10, 6))\n",
    "sns.barplot(x=list(class_counts.keys()), y=list(class_counts.values()))\n",
    "plt.title(\"Number of Images per Class\")\n",
    "plt.ylabel(\"Count\")\n",
    "plt.xlabel(\"Class\")\n",
    "plt.xticks(rotation=45)\n",
    "plt.tight_layout()\n",
    "plt.show()\n"
   ]
  },
  {
   "cell_type": "code",
   "execution_count": null,
   "metadata": {},
   "outputs": [],
   "source": [
    "\n",
    "# === 3. Display sample images ===\n",
    "num_samples = 5\n",
    "plt.figure(figsize=(15, 5))\n",
    "\n",
    "all_class_dirs = list(TRAIN_DIR.iterdir())\n",
    "for i in range(num_samples):\n",
    "    class_dir = random.choice(all_class_dirs)\n",
    "    img_path = random.choice(list(class_dir.glob(\"*.*\")))\n",
    "    img = Image.open(img_path)\n",
    "\n",
    "    plt.subplot(1, num_samples, i + 1)\n",
    "    plt.imshow(img)\n",
    "    plt.title(f\"Class: {class_dir.name}\")\n",
    "    plt.axis(\"off\")\n",
    "\n",
    "plt.suptitle(\"Sample Images from Train Dataset\")\n",
    "plt.tight_layout()\n",
    "plt.show()\n",
    "\n",
    "# === 4. Image shape statistics ===\n",
    "if image_shapes:\n",
    "    widths, heights = zip(*image_shapes)\n",
    "    print(f\"Number of sampled images: {len(image_shapes)}\")\n",
    "    print(f\"Avg Width x Height: {np.mean(widths):.1f} x {np.mean(heights):.1f}\")\n",
    "    print(f\"Min Size: {min(widths)}x{min(heights)}\")\n",
    "    print(f\"Max Size: {max(widths)}x{max(heights)}\")\n",
    "else:\n",
    "    print(\"No image sizes could be extracted.\")\n"
   ]
  },
  {
   "cell_type": "markdown",
   "metadata": {},
   "source": [
    "### Class Count Sorted + Rotated"
   ]
  },
  {
   "cell_type": "code",
   "execution_count": null,
   "metadata": {},
   "outputs": [],
   "source": [
    "# Sort by count\n",
    "sorted_counts = dict(sorted(class_counts.items(), key=lambda x: x[1], reverse=True))\n",
    "\n",
    "plt.figure(figsize=(12, 6))\n",
    "sns.barplot(x=list(sorted_counts.keys()), y=list(sorted_counts.values()))\n",
    "plt.title(\"Image Count per Class\")\n",
    "plt.ylabel(\"Count\")\n",
    "plt.xlabel(\"Class\")\n",
    "plt.xticks(rotation=45, ha='right')\n",
    "plt.tight_layout()\n",
    "plt.show()\n"
   ]
  },
  {
   "cell_type": "markdown",
   "metadata": {},
   "source": [
    "### RGB Means — One Chart per Channel"
   ]
  },
  {
   "cell_type": "code",
   "execution_count": null,
   "metadata": {},
   "outputs": [],
   "source": [
    "rgb_means = {cls: np.mean(vals, axis=0) for cls, vals in class_rgb_means.items()}\n",
    "classes = list(rgb_means.keys())\n",
    "r_vals = [rgb_means[c][0] for c in classes]\n",
    "g_vals = [rgb_means[c][1] for c in classes]\n",
    "b_vals = [rgb_means[c][2] for c in classes]\n",
    "\n",
    "plt.figure(figsize=(12, 6))\n",
    "plt.plot(classes, r_vals, marker='o', label='Red', color='red')\n",
    "plt.plot(classes, g_vals, marker='o', label='Green', color='green')\n",
    "plt.plot(classes, b_vals, marker='o', label='Blue', color='blue')\n",
    "plt.xticks(rotation=45, ha='right')\n",
    "plt.ylabel(\"Average RGB Value\")\n",
    "plt.title(\"RGB Intensity per Class\")\n",
    "plt.legend()\n",
    "plt.tight_layout()\n",
    "plt.show()\n"
   ]
  },
  {
   "cell_type": "markdown",
   "metadata": {},
   "source": [
    "### Brightness — Box Plot Instead of KDE"
   ]
  },
  {
   "cell_type": "code",
   "execution_count": null,
   "metadata": {},
   "outputs": [],
   "source": [
    "import pandas as pd\n",
    "import seaborn as sns\n",
    "import matplotlib.pyplot as plt\n",
    "\n",
    "# Convert list of dicts → DataFrame\n",
    "brightness_df = pd.DataFrame(brightness_data)\n",
    "\n",
    "# Now plot with seaborn\n",
    "plt.figure(figsize=(14, 6))\n",
    "sns.boxplot(data=brightness_df, x=\"class\", y=\"brightness\")\n",
    "plt.title(\"Brightness Distribution per Class\")\n",
    "plt.xticks(rotation=45, ha='right')\n",
    "plt.tight_layout()\n",
    "plt.show()\n"
   ]
  },
  {
   "cell_type": "code",
   "execution_count": null,
   "metadata": {},
   "outputs": [],
   "source": [
    "# Categorization dictionary\n",
    "fresh_rotten_map = {\n",
    "    'rottenbanana': 'rotten',\n",
    "    'freshpotato': 'fresh',\n",
    "    'freshokra': 'fresh',\n",
    "    'rottentomato': 'rotten',\n",
    "    'rottenokra': 'rotten',\n",
    "    'freshoranges': 'fresh',\n",
    "    'rottenoranges': 'rotten',\n",
    "    'freshcucumber': 'fresh',\n",
    "    'rottencapsicum': 'rotten',\n",
    "    'freshtomato': 'fresh',\n",
    "    'freshbanana': 'fresh',\n",
    "    'rottencucumber': 'rotten',\n",
    "    'rottenapples': 'rotten',\n",
    "    'freshapples': 'fresh',\n",
    "    'freshbittergroud': 'fresh',\n",
    "    'freshcapsicum': 'fresh',\n",
    "    'rottenbittergroud': 'rotten',\n",
    "    'rottenpotato': 'rotten',\n",
    "}\n"
   ]
  },
  {
   "cell_type": "code",
   "execution_count": null,
   "metadata": {},
   "outputs": [],
   "source": [
    "import os\n",
    "import cv2\n",
    "import numpy as np\n",
    "from pathlib import Path\n",
    "from tqdm import tqdm\n",
    "\n",
    "DATASET_DIR = Path(\"/kaggle/input/fresh-and-stale-classification/dataset/Train\")\n",
    "brightness_data = []\n",
    "\n",
    "for class_dir in tqdm(DATASET_DIR.iterdir(), desc=\"Processing Classes\"):\n",
    "    label = class_dir.name\n",
    "    freshness = fresh_rotten_map.get(label, \"unknown\")\n",
    "\n",
    "    for img_path in class_dir.glob(\"*.jpg\"):\n",
    "        img = cv2.imread(str(img_path))\n",
    "        if img is None:\n",
    "            continue\n",
    "        img_gray = cv2.cvtColor(img, cv2.COLOR_BGR2GRAY)\n",
    "        brightness = np.mean(img_gray)\n",
    "\n",
    "        brightness_data.append({\n",
    "            \"class\": label,\n",
    "            \"freshness\": freshness,\n",
    "            \"brightness\": brightness\n",
    "        })\n",
    "\n",
    "import pandas as pd\n",
    "\n",
    "df = pd.DataFrame(brightness_data)\n"
   ]
  },
  {
   "cell_type": "markdown",
   "metadata": {},
   "source": [
    "###  Class Distribution"
   ]
  },
  {
   "cell_type": "code",
   "execution_count": null,
   "metadata": {},
   "outputs": [],
   "source": [
    "import seaborn as sns\n",
    "import matplotlib.pyplot as plt\n",
    "\n",
    "plt.figure(figsize=(14, 5))\n",
    "sns.countplot(data=df, x=\"class\", order=df[\"class\"].value_counts().index)\n",
    "plt.xticks(rotation=45, ha='right')\n",
    "plt.title(\"Class Distribution (Fresh vs Rotten)\")\n",
    "plt.tight_layout()\n",
    "plt.show()\n"
   ]
  },
  {
   "cell_type": "markdown",
   "metadata": {},
   "source": [
    "### Fresh vs Rotten Distribution"
   ]
  },
  {
   "cell_type": "code",
   "execution_count": null,
   "metadata": {},
   "outputs": [],
   "source": [
    "plt.figure(figsize=(6, 4))\n",
    "sns.countplot(data=df, x=\"freshness\")\n",
    "plt.title(\"Fresh vs Rotten Image Counts\")\n",
    "plt.tight_layout()\n",
    "plt.show()\n"
   ]
  },
  {
   "cell_type": "markdown",
   "metadata": {},
   "source": [
    "### Brightness Distribution by Freshness"
   ]
  },
  {
   "cell_type": "code",
   "execution_count": null,
   "metadata": {},
   "outputs": [],
   "source": [
    "plt.figure(figsize=(8, 5))\n",
    "sns.boxplot(data=df, x=\"freshness\", y=\"brightness\")\n",
    "plt.title(\"Brightness Distribution: Fresh vs Rotten\")\n",
    "plt.tight_layout()\n",
    "plt.show()\n"
   ]
  },
  {
   "cell_type": "markdown",
   "metadata": {},
   "source": [
    "### Brightness Distribution per Class"
   ]
  },
  {
   "cell_type": "code",
   "execution_count": null,
   "metadata": {},
   "outputs": [],
   "source": [
    "plt.figure(figsize=(16, 6))\n",
    "sns.boxplot(data=df, x=\"class\", y=\"brightness\", palette=\"coolwarm\")\n",
    "plt.title(\"Brightness Distribution per Class\")\n",
    "plt.xticks(rotation=45, ha='right')\n",
    "plt.tight_layout()\n",
    "plt.show()\n"
   ]
  },
  {
   "cell_type": "markdown",
   "metadata": {},
   "source": [
    "### Histogram Overlays"
   ]
  },
  {
   "cell_type": "code",
   "execution_count": null,
   "metadata": {},
   "outputs": [],
   "source": [
    "plt.figure(figsize=(10, 5))\n",
    "sns.histplot(data=df, x=\"brightness\", hue=\"freshness\", kde=True, bins=30)\n",
    "plt.title(\"Histogram of Brightness: Fresh vs Rotten\")\n",
    "plt.tight_layout()\n",
    "plt.show()\n"
   ]
  },
  {
   "cell_type": "code",
   "execution_count": null,
   "metadata": {},
   "outputs": [],
   "source": []
  }
 ],
 "metadata": {
  "kaggle": {
   "accelerator": "none",
   "dataSources": [
    {
     "datasetId": 3371317,
     "sourceId": 5863298,
     "sourceType": "datasetVersion"
    }
   ],
   "dockerImageVersionId": 31089,
   "isGpuEnabled": false,
   "isInternetEnabled": true,
   "language": "python",
   "sourceType": "notebook"
  },
  "kernelspec": {
   "display_name": "Python 3",
   "language": "python",
   "name": "python3"
  },
  "language_info": {
   "codemirror_mode": {
    "name": "ipython",
    "version": 3
   },
   "file_extension": ".py",
   "mimetype": "text/x-python",
   "name": "python",
   "nbconvert_exporter": "python",
   "pygments_lexer": "ipython3",
   "version": "3.11.13"
  }
 },
 "nbformat": 4,
 "nbformat_minor": 4
}
